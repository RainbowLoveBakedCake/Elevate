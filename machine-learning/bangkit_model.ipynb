{
  "nbformat": 4,
  "nbformat_minor": 0,
  "metadata": {
    "colab": {
      "name": "bangkit-model.ipynb",
      "provenance": [],
      "collapsed_sections": [],
      "toc_visible": true
    },
    "kernelspec": {
      "name": "python3",
      "display_name": "Python 3"
    },
    "language_info": {
      "name": "python"
    }
  },
  "cells": [
    {
      "cell_type": "markdown",
      "metadata": {
        "id": "hA7qn3cGukVe"
      },
      "source": [
        "# Credit"
      ]
    },
    {
      "cell_type": "markdown",
      "metadata": {
        "id": "8O_kZPnsu-Re"
      },
      "source": [
        "This notebook was created by Salsabila Zahirah Pranida (M2142098) and Riviawati Putri Giovani (M2992697) as a form of work in the capstone project from Bangkit.\n",
        "\n",
        "This notebook contains preprocessing, modeling, and predicting of new datasets. The dataset was Tokopedia's product name about Foods and it classified into 7 classes: parcels, groceries, foods, cookies, snacks, frozen, and drinks. Total data have been collecting was 17,634, the data cleaned was 7,254 but imbalanced data, the data for modeling was 4956 (4212; traindata| 744; testdata)\n",
        "\n",
        "Copyright dataset: **Tokopedia**."
      ]
    },
    {
      "cell_type": "markdown",
      "metadata": {
        "id": "p5_YNUleSOZz"
      },
      "source": [
        "# Libraries"
      ]
    },
    {
      "cell_type": "code",
      "metadata": {
        "colab": {
          "base_uri": "https://localhost:8080/"
        },
        "id": "8ONaIclylpb-",
        "outputId": "724b9f1c-7119-44a5-db5c-c5c70b222b8f"
      },
      "source": [
        "!pip install Sastrawi\n",
        "!pip install contractions"
      ],
      "execution_count": null,
      "outputs": [
        {
          "output_type": "stream",
          "text": [
            "Requirement already satisfied: Sastrawi in /usr/local/lib/python3.7/dist-packages (1.0.1)\n",
            "Requirement already satisfied: contractions in /usr/local/lib/python3.7/dist-packages (0.0.49)\n",
            "Requirement already satisfied: textsearch>=0.0.21 in /usr/local/lib/python3.7/dist-packages (from contractions) (0.0.21)\n",
            "Requirement already satisfied: anyascii in /usr/local/lib/python3.7/dist-packages (from textsearch>=0.0.21->contractions) (0.2.0)\n",
            "Requirement already satisfied: pyahocorasick in /usr/local/lib/python3.7/dist-packages (from textsearch>=0.0.21->contractions) (1.4.2)\n"
          ],
          "name": "stdout"
        }
      ]
    },
    {
      "cell_type": "code",
      "metadata": {
        "colab": {
          "base_uri": "https://localhost:8080/"
        },
        "id": "ov2b69YJSOHe",
        "outputId": "ec9ad2d7-73cc-4a30-c902-acbd15bc613f"
      },
      "source": [
        "#import needed libraries\n",
        "import re\n",
        "import string\n",
        "import unicodedata\n",
        "import nltk\n",
        "import inflect\n",
        "import pickle\n",
        "import contractions\n",
        "\n",
        "import pandas as pd\n",
        "import numpy as np\n",
        "import matplotlib.pyplot as plt\n",
        "\n",
        "from datetime import datetime\n",
        "from bs4 import BeautifulSoup\n",
        "from nltk import word_tokenize, sent_tokenize\n",
        "from nltk.corpus import stopwords\n",
        "from nltk.tokenize import word_tokenize, sent_tokenize\n",
        "from nltk.probability import FreqDist\n",
        "from nltk.stem import PorterStemmer\n",
        "\n",
        "from Sastrawi.Stemmer.StemmerFactory import StemmerFactory\n",
        "from Sastrawi.StopWordRemover.StopWordRemoverFactory import StopWordRemoverFactory\n",
        "\n",
        "from tensorflow import keras \n",
        "from tensorflow.keras.preprocessing.text import Tokenizer\n",
        "from tensorflow.keras.preprocessing.sequence import pad_sequences\n",
        "from tensorflow.keras import layers, initializers\n",
        "from tensorflow.keras.models import Sequential, load_model, Model\n",
        "from tensorflow.keras.layers import Concatenate, Input, Embedding, LSTM, Attention, Dense, Dropout, Bidirectional, LSTM, Flatten, Conv1D, GlobalMaxPool1D, MaxPool1D, Reshape, GlobalAveragePooling1D, UpSampling1D, Layer\n",
        "from tensorflow.keras.callbacks import EarlyStopping, ModelCheckpoint\n",
        "\n",
        "from datetime import datetime\n",
        "\n",
        "from keras import initializers\n",
        "from keras.preprocessing.text import Tokenizer\n",
        "from keras.preprocessing.sequence import pad_sequences\n",
        "from keras.models import Sequential, save_model, load_model\n",
        "from keras.layers import Dense, Embedding, Dropout, LSTM, Bidirectional, GRU, GlobalMaxPool1D\n",
        "from keras.utils.np_utils import to_categorical\n",
        "from keras.backend import clear_session\n",
        "\n",
        "from sklearn.model_selection import train_test_split\n",
        "from sklearn.metrics import classification_report, confusion_matrix, accuracy_score, f1_score, precision_score, recall_score\n",
        "from sklearn.naive_bayes import MultinomialNB\n",
        "from sklearn.svm import LinearSVC\n",
        "from sklearn.feature_extraction.text import CountVectorizer\n",
        "from sklearn.feature_extraction.text import TfidfTransformer\n",
        "from sklearn.feature_extraction.text import TfidfVectorizer\n",
        "\n",
        "nltk.download('stopwords')\n",
        "nltk.download('punkt')"
      ],
      "execution_count": null,
      "outputs": [
        {
          "output_type": "stream",
          "text": [
            "[nltk_data] Downloading package stopwords to /root/nltk_data...\n",
            "[nltk_data]   Package stopwords is already up-to-date!\n",
            "[nltk_data] Downloading package punkt to /root/nltk_data...\n",
            "[nltk_data]   Package punkt is already up-to-date!\n"
          ],
          "name": "stdout"
        },
        {
          "output_type": "execute_result",
          "data": {
            "text/plain": [
              "True"
            ]
          },
          "metadata": {
            "tags": []
          },
          "execution_count": 2
        }
      ]
    },
    {
      "cell_type": "markdown",
      "metadata": {
        "id": "LPHBXpJclWTP"
      },
      "source": [
        "# Initialization"
      ]
    },
    {
      "cell_type": "code",
      "metadata": {
        "colab": {
          "base_uri": "https://localhost:8080/"
        },
        "id": "keM2p2jB4XLT",
        "outputId": "e1e7f775-dc04-4f6d-e147-9e212f84ac33"
      },
      "source": [
        "from google.colab import drive\n",
        "drive.mount('/content/drive')"
      ],
      "execution_count": null,
      "outputs": [
        {
          "output_type": "stream",
          "text": [
            "Drive already mounted at /content/drive; to attempt to forcibly remount, call drive.mount(\"/content/drive\", force_remount=True).\n"
          ],
          "name": "stdout"
        }
      ]
    },
    {
      "cell_type": "code",
      "metadata": {
        "colab": {
          "base_uri": "https://localhost:8080/",
          "height": 197
        },
        "id": "BBbt10etKgKQ",
        "outputId": "974b7678-ff3e-4905-8d43-23ff5e03d52d"
      },
      "source": [
        "#load data\n",
        "df = pd.read_excel('/content/drive/Shareddrives/Bangkit Capstone/Data/dataset.xlsx')\n",
        "df.head()"
      ],
      "execution_count": null,
      "outputs": [
        {
          "output_type": "execute_result",
          "data": {
            "text/html": [
              "<div>\n",
              "<style scoped>\n",
              "    .dataframe tbody tr th:only-of-type {\n",
              "        vertical-align: middle;\n",
              "    }\n",
              "\n",
              "    .dataframe tbody tr th {\n",
              "        vertical-align: top;\n",
              "    }\n",
              "\n",
              "    .dataframe thead th {\n",
              "        text-align: right;\n",
              "    }\n",
              "</style>\n",
              "<table border=\"1\" class=\"dataframe\">\n",
              "  <thead>\n",
              "    <tr style=\"text-align: right;\">\n",
              "      <th></th>\n",
              "      <th>context</th>\n",
              "      <th>labels</th>\n",
              "    </tr>\n",
              "  </thead>\n",
              "  <tbody>\n",
              "    <tr>\n",
              "      <th>0</th>\n",
              "      <td>Box of 6 waffles Mixed (kecuali Red Velvet)</td>\n",
              "      <td>parcels</td>\n",
              "    </tr>\n",
              "    <tr>\n",
              "      <th>1</th>\n",
              "      <td>jinjja Kimchi 1Kg fresh hand made asli buatan ...</td>\n",
              "      <td>groceries</td>\n",
              "    </tr>\n",
              "    <tr>\n",
              "      <th>2</th>\n",
              "      <td>Kimchi Fresh Homemade 1 Kg - Bubble Wrap, Utuh...</td>\n",
              "      <td>groceries</td>\n",
              "    </tr>\n",
              "    <tr>\n",
              "      <th>3</th>\n",
              "      <td>dimsum/somay/siomay isi ayam - halal</td>\n",
              "      <td>foods</td>\n",
              "    </tr>\n",
              "    <tr>\n",
              "      <th>4</th>\n",
              "      <td>MULTIGRAIN, 500G</td>\n",
              "      <td>cookies</td>\n",
              "    </tr>\n",
              "  </tbody>\n",
              "</table>\n",
              "</div>"
            ],
            "text/plain": [
              "                                             context     labels\n",
              "0        Box of 6 waffles Mixed (kecuali Red Velvet)    parcels\n",
              "1  jinjja Kimchi 1Kg fresh hand made asli buatan ...  groceries\n",
              "2  Kimchi Fresh Homemade 1 Kg - Bubble Wrap, Utuh...  groceries\n",
              "3               dimsum/somay/siomay isi ayam - halal      foods\n",
              "4                                   MULTIGRAIN, 500G    cookies"
            ]
          },
          "metadata": {
            "tags": []
          },
          "execution_count": 4
        }
      ]
    },
    {
      "cell_type": "code",
      "metadata": {
        "id": "kvogxJpHlUT8",
        "colab": {
          "base_uri": "https://localhost:8080/"
        },
        "outputId": "8692b08e-e4f8-41f6-a1b4-227412a1f8a3"
      },
      "source": [
        "#checking duplicate data\n",
        "df.duplicated().sum()"
      ],
      "execution_count": null,
      "outputs": [
        {
          "output_type": "execute_result",
          "data": {
            "text/plain": [
              "1424"
            ]
          },
          "metadata": {
            "tags": []
          },
          "execution_count": 5
        }
      ]
    },
    {
      "cell_type": "code",
      "metadata": {
        "id": "5Uhv38ZmlURA"
      },
      "source": [
        "#delete duplicated data\n",
        "df = df.drop_duplicates()\n",
        "df.duplicated().sum()"
      ],
      "execution_count": null,
      "outputs": []
    },
    {
      "cell_type": "code",
      "metadata": {
        "id": "BFzYhfVVlUCV"
      },
      "source": [
        "df = df.reset_index(drop=True)\n",
        "df.head()"
      ],
      "execution_count": null,
      "outputs": []
    },
    {
      "cell_type": "code",
      "metadata": {
        "colab": {
          "base_uri": "https://localhost:8080/"
        },
        "id": "-eAjw_DclT85",
        "outputId": "19359e67-06ba-4efa-9907-f69eb4aaff97"
      },
      "source": [
        "#convert label string to categorical\n",
        "df.dropna(inplace = True)\n",
        "df['label_id'] = df['labels'].factorize()[0]\n",
        "kategori_id = df[['labels', 'label_id']].drop_duplicates().sort_values('label_id')\n",
        "kategori_to_id = dict(kategori_id.values)\n",
        "id_to_kategori = dict(kategori_id[['label_id', 'labels']].values)\n",
        "\n",
        "#show data id_to_kategori\n",
        "id_to_kategori"
      ],
      "execution_count": null,
      "outputs": [
        {
          "output_type": "execute_result",
          "data": {
            "text/plain": [
              "{0: 'parcels',\n",
              " 1: 'groceries',\n",
              " 2: 'foods',\n",
              " 3: 'cookies',\n",
              " 4: 'snacks',\n",
              " 5: 'frozen',\n",
              " 6: 'drinks'}"
            ]
          },
          "metadata": {
            "tags": []
          },
          "execution_count": 5
        }
      ]
    },
    {
      "cell_type": "code",
      "metadata": {
        "colab": {
          "base_uri": "https://localhost:8080/",
          "height": 468
        },
        "id": "ox0fY-XblT12",
        "outputId": "236043c3-7a00-4ed1-f9e0-03cddb73e594"
      },
      "source": [
        "#knowing dataset counts\n",
        "target = df['labels'].value_counts()\n",
        "target.plot(kind='bar', title='Target Dataset')\n",
        "\n",
        "#show dataset\n",
        "target"
      ],
      "execution_count": null,
      "outputs": [
        {
          "output_type": "execute_result",
          "data": {
            "text/plain": [
              "foods        1339\n",
              "groceries    1319\n",
              "snacks       1214\n",
              "cookies       990\n",
              "parcels       885\n",
              "drinks        791\n",
              "frozen        708\n",
              "Name: labels, dtype: int64"
            ]
          },
          "metadata": {
            "tags": []
          },
          "execution_count": 6
        },
        {
          "output_type": "display_data",
          "data": {
            "image/png": "[encoded data removed]",
            "text/plain": [
              "<Figure size 432x288 with 1 Axes>"
            ]
          },
          "metadata": {
            "tags": [],
            "needs_background": "light"
          }
        }
      ]
    },
    {
      "cell_type": "code",
      "metadata": {
        "colab": {
          "base_uri": "https://localhost:8080/",
          "height": 466
        },
        "id": "MnlJoznplTzM",
        "outputId": "948d2e37-25a0-4ba2-e90c-9a3e7aefa764"
      },
      "source": [
        "#balancing dataset\n",
        "class_0, class_1, class_2, class_3, class_4, class_5, class_6 = df['label_id'].value_counts()\n",
        "\n",
        "dataset_class_0 = df[df['label_id'] == 0]\n",
        "dataset_class_1 = df[df['label_id'] == 1]\n",
        "dataset_class_2 = df[df['label_id'] == 2]\n",
        "dataset_class_3 = df[df['label_id'] == 3]\n",
        "dataset_class_4 = df[df['label_id'] == 4]\n",
        "dataset_class_5 = df[df['label_id'] == 5]\n",
        "dataset_class_6 = df[df['label_id'] == 6]\n",
        "\n",
        "#making dataset as much as label 6\n",
        "dataset_class_0 = dataset_class_0.sample(class_6)\n",
        "dataset_class_1 = dataset_class_1.sample(class_6)\n",
        "dataset_class_2 = dataset_class_2.sample(class_6)\n",
        "dataset_class_3 = dataset_class_3.sample(class_6)\n",
        "dataset_class_4 = dataset_class_4.sample(class_6)\n",
        "dataset_class_5 = dataset_class_5.sample(class_6)\n",
        "dataset_class_6 = dataset_class_6.sample(class_6)\n",
        "df = pd.concat([dataset_class_0, dataset_class_1, dataset_class_2, \n",
        "                     dataset_class_3, dataset_class_4, dataset_class_5, dataset_class_6], axis=0)\n",
        "\n",
        "print(\"Random samping: \")\n",
        "print(df.label_id.value_counts())\n",
        "\n",
        "df.label_id.value_counts().plot(kind='bar', title='New Target Dataset')"
      ],
      "execution_count": null,
      "outputs": [
        {
          "output_type": "stream",
          "text": [
            "Random samping: \n",
            "3    708\n",
            "6    708\n",
            "2    708\n",
            "5    708\n",
            "1    708\n",
            "4    708\n",
            "0    708\n",
            "Name: label_id, dtype: int64\n"
          ],
          "name": "stdout"
        },
        {
          "output_type": "execute_result",
          "data": {
            "text/plain": [
              "<matplotlib.axes._subplots.AxesSubplot at 0x7fe3b5fb9350>"
            ]
          },
          "metadata": {
            "tags": []
          },
          "execution_count": 7
        },
        {
          "output_type": "display_data",
          "data": {
            "image/png": "[encoded data removed]",
            "text/plain": [
              "<Figure size 432x288 with 1 Axes>"
            ]
          },
          "metadata": {
            "tags": [],
            "needs_background": "light"
          }
        }
      ]
    },
    {
      "cell_type": "code",
      "metadata": {
        "colab": {
          "base_uri": "https://localhost:8080/"
        },
        "id": "qd5RunnVdH4e",
        "outputId": "ad8905e6-de2a-4c16-c933-778d06c521fa"
      },
      "source": [
        "len(df)"
      ],
      "execution_count": null,
      "outputs": [
        {
          "output_type": "execute_result",
          "data": {
            "text/plain": [
              "4956"
            ]
          },
          "metadata": {
            "tags": []
          },
          "execution_count": 8
        }
      ]
    },
    {
      "cell_type": "markdown",
      "metadata": {
        "id": "pcYcUx9HmRjH"
      },
      "source": [
        "# Preprocessing"
      ]
    },
    {
      "cell_type": "code",
      "metadata": {
        "id": "-EQZFvr5lTwm"
      },
      "source": [
        "#removes html\n",
        "def strip_html(text):\n",
        "  soup = BeautifulSoup(text, \"html.parser\")\n",
        "  return soup.get_text()\n",
        "  \n",
        "#remove between square brackets\n",
        "def remove_between_square_brackets(text):\n",
        "    return re.sub('\\[[^]]*\\]', '', text)\n",
        "\n",
        "#eliminates contractions\n",
        "def replace_contractions(text):\n",
        "  \"\"\"Replace contactions in string of text\"\"\"\n",
        "  return contractions.fix(text)\n",
        "\n",
        "#denoise text\n",
        "def denoise_text(text):\n",
        "  text = strip_html(text)\n",
        "  text = remove_between_square_brackets(text)\n",
        "  text = replace_contractions(text)\n",
        "  return text"
      ],
      "execution_count": null,
      "outputs": []
    },
    {
      "cell_type": "code",
      "metadata": {
        "id": "4jLarV3WlTtP"
      },
      "source": [
        "#remove stopword\n",
        "def removeStopword(str):\n",
        "    stop_words = set(stopwords.words('indonesian'))\n",
        "    word_tokens = word_tokenize(str)\n",
        "    filtered_sentence = [w for w in word_tokens if not w in stop_words]\n",
        "    return ' '.join(filtered_sentence)"
      ],
      "execution_count": null,
      "outputs": []
    },
    {
      "cell_type": "code",
      "metadata": {
        "id": "2XrZs4mJlToK"
      },
      "source": [
        "#cleaning dataset\n",
        "def cleaning(str):\n",
        "    #remove non-ascii\n",
        "    str = unicodedata.normalize('NFKD', str).encode('ascii', 'ignore').decode('utf-8', 'ignore')\n",
        "    str = re.sub(\"b'|b\\\"\",'',str)\n",
        "    #remove username inside brackets\n",
        "    str = re.sub('SENSITIVE-NO',' ',str) \n",
        "    #Remove additional white spaces\n",
        "    str = re.sub('[\\s]+', ' ', str)\n",
        "    #remove URLs\n",
        "    str = re.sub(r'(?i)\\b((?:https?://|www\\d{0,3}[.]|[a-z0-9.\\-]+[.][a-z]{2,4}/)(?:[^\\s()<>]+|\\(([^\\s()<>]+|(\\([^\\s()<>]+\\)))*\\))+(?:\\(([^\\s()<>]+|(\\([^\\s()<>]+\\)))*\\)|[^\\s`!()\\[\\]{};:\\'\".,<>?«»“”‘’]))', '', str)\n",
        "    #remove punctuations\n",
        "    str = re.sub(r'[^\\w]|_',' ',str)\n",
        "    #remove digit from string\n",
        "    str = re.sub(\"\\S*\\d\\S*\", \"\", str).strip()\n",
        "    #remove digit or numbers\n",
        "    str = re.sub(r\"\\b\\d+\\b\", \" \", str)\n",
        "    #to lowercase\n",
        "    str = str.lower()\n",
        "    return str"
      ],
      "execution_count": null,
      "outputs": []
    },
    {
      "cell_type": "code",
      "metadata": {
        "id": "DS9ZII3bmYZp"
      },
      "source": [
        "#preprocessing dataset function\n",
        "def preprocessing(str):\n",
        "  str = denoise_text(str)\n",
        "  str = cleaning(str)\n",
        "  str = removeStopword(str)\n",
        "  return str"
      ],
      "execution_count": null,
      "outputs": []
    },
    {
      "cell_type": "code",
      "metadata": {
        "colab": {
          "base_uri": "https://localhost:8080/"
        },
        "id": "kUvv3HXImYUS",
        "outputId": "9cfdcf65-d5fe-4f9b-d697-1bae783aee08"
      },
      "source": [
        "#testing preprocessing funtion\n",
        "print(preprocessing('Gelatine Sheet (Bronze) / Gelatine lembaran HALAL (PER 5 LEMBAR)'))\n",
        "print(preprocessing('PROMO Fresh Kimchi Korea + box plastik 1kg (bs pilih varian) Halal'))\n",
        "print(preprocessing('LAKCIE KERING 250G/ DRIED CHESTNUT/LAKCI/LIZI/KACANG BERANGAN/ LAK CI'))\n",
        "print(preprocessing('NASI BAKAR ENAK... (PORSI PASTI KENYAANG)'))\n",
        "print(preprocessing('ARUM MANIS RAMBUT NENEK KEMASAN 650ML/arumanis/aromanis/arbanat/GULALI'))\n",
        "print(preprocessing('[BTL] Kobe Boncabe Level 15 Original BOTOL Sambal Tabur | Bon Cabe'))"
      ],
      "execution_count": null,
      "outputs": [
        {
          "output_type": "stream",
          "text": [
            "gelatine sheet bronze gelatine lembaran halal lembar\n",
            "promo fresh kimchi korea box plastik bs pilih varian halal\n",
            "lakcie kering dried chestnut lakci lizi kacang berangan lak ci\n",
            "nasi bakar enak porsi kenyaang\n",
            "arum manis rambut nenek kemasan arumanis aromanis arbanat gulali\n",
            "kobe boncabe level original botol sambal tabur bon cabe\n"
          ],
          "name": "stdout"
        }
      ]
    },
    {
      "cell_type": "code",
      "metadata": {
        "id": "PlKRbIDXmYRl"
      },
      "source": [
        "#apply preprocessing\n",
        "df['text'] = df['context'].apply(preprocessing)"
      ],
      "execution_count": null,
      "outputs": []
    },
    {
      "cell_type": "code",
      "metadata": {
        "colab": {
          "base_uri": "https://localhost:8080/"
        },
        "id": "SM6HT5_0mYO_",
        "outputId": "e1a142bf-ab52-4ad7-80dd-aa3150b07ea8"
      },
      "source": [
        "df.info()"
      ],
      "execution_count": null,
      "outputs": [
        {
          "output_type": "stream",
          "text": [
            "<class 'pandas.core.frame.DataFrame'>\n",
            "Int64Index: 4956 entries, 5925 to 4545\n",
            "Data columns (total 4 columns):\n",
            " #   Column    Non-Null Count  Dtype \n",
            "---  ------    --------------  ----- \n",
            " 0   context   4956 non-null   object\n",
            " 1   labels    4956 non-null   object\n",
            " 2   label_id  4956 non-null   int64 \n",
            " 3   text      4956 non-null   object\n",
            "dtypes: int64(1), object(3)\n",
            "memory usage: 193.6+ KB\n"
          ],
          "name": "stdout"
        }
      ]
    },
    {
      "cell_type": "code",
      "metadata": {
        "colab": {
          "base_uri": "https://localhost:8080/"
        },
        "id": "1HXDI6OAUpAx",
        "outputId": "3bdfea27-9e53-417b-d06c-55d2aa16e366"
      },
      "source": [
        "len(df)"
      ],
      "execution_count": null,
      "outputs": [
        {
          "output_type": "execute_result",
          "data": {
            "text/plain": [
              "4956"
            ]
          },
          "metadata": {
            "tags": []
          },
          "execution_count": 16
        }
      ]
    },
    {
      "cell_type": "code",
      "metadata": {
        "colab": {
          "base_uri": "https://localhost:8080/",
          "height": 406
        },
        "id": "WcX2cMxymYMn",
        "outputId": "0f2089ea-1dbd-4af2-b6a3-ec22f4e32caa"
      },
      "source": [
        "df"
      ],
      "execution_count": null,
      "outputs": [
        {
          "output_type": "execute_result",
          "data": {
            "text/html": [
              "<div>\n",
              "<style scoped>\n",
              "    .dataframe tbody tr th:only-of-type {\n",
              "        vertical-align: middle;\n",
              "    }\n",
              "\n",
              "    .dataframe tbody tr th {\n",
              "        vertical-align: top;\n",
              "    }\n",
              "\n",
              "    .dataframe thead th {\n",
              "        text-align: right;\n",
              "    }\n",
              "</style>\n",
              "<table border=\"1\" class=\"dataframe\">\n",
              "  <thead>\n",
              "    <tr style=\"text-align: right;\">\n",
              "      <th></th>\n",
              "      <th>context</th>\n",
              "      <th>labels</th>\n",
              "      <th>label_id</th>\n",
              "      <th>text</th>\n",
              "    </tr>\n",
              "  </thead>\n",
              "  <tbody>\n",
              "    <tr>\n",
              "      <th>5925</th>\n",
              "      <td>parcel buah tanpa tangkai/pegangan</td>\n",
              "      <td>parcels</td>\n",
              "      <td>0</td>\n",
              "      <td>parcel buah tangkai pegangan</td>\n",
              "    </tr>\n",
              "    <tr>\n",
              "      <th>204</th>\n",
              "      <td>SEMBAKO MURAH BERKUALITAS!</td>\n",
              "      <td>parcels</td>\n",
              "      <td>0</td>\n",
              "      <td>sembako murah berkualitas</td>\n",
              "    </tr>\n",
              "    <tr>\n",
              "      <th>5987</th>\n",
              "      <td>Parsel Ramadan Custom Cilok Djoedes, Healthy C...</td>\n",
              "      <td>parcels</td>\n",
              "      <td>0</td>\n",
              "      <td>parsel ramadan custom cilok djoedes healthy ce...</td>\n",
              "    </tr>\n",
              "    <tr>\n",
              "      <th>5866</th>\n",
              "      <td>PARCEL SPESIAL LEBARAN MURAH, MEWAH DAN BERKUA...</td>\n",
              "      <td>parcels</td>\n",
              "      <td>0</td>\n",
              "      <td>parcel spesial lebaran murah mewah berkualitas...</td>\n",
              "    </tr>\n",
              "    <tr>\n",
              "      <th>2416</th>\n",
              "      <td>PAKET COKLAT PRIORITAS DREAM BELLAROSA BINGKIS...</td>\n",
              "      <td>parcels</td>\n",
              "      <td>0</td>\n",
              "      <td>paket coklat prioritas dream bellarosa bingkis...</td>\n",
              "    </tr>\n",
              "    <tr>\n",
              "      <th>...</th>\n",
              "      <td>...</td>\n",
              "      <td>...</td>\n",
              "      <td>...</td>\n",
              "      <td>...</td>\n",
              "    </tr>\n",
              "    <tr>\n",
              "      <th>4505</th>\n",
              "      <td>Madu Uray - Honey - Murni - Sehat - Madu Alami...</td>\n",
              "      <td>drinks</td>\n",
              "      <td>6</td>\n",
              "      <td>madu uray honey murni sehat madu alami</td>\n",
              "    </tr>\n",
              "    <tr>\n",
              "      <th>2006</th>\n",
              "      <td>Chocodrink Minuman Cokelat 28 gr x 5 sachet</td>\n",
              "      <td>drinks</td>\n",
              "      <td>6</td>\n",
              "      <td>chocodrink minuman cokelat gr x sachet</td>\n",
              "    </tr>\n",
              "    <tr>\n",
              "      <th>4692</th>\n",
              "      <td>Morning Rice 180ml kaleng - Makgeolli - Makoli...</td>\n",
              "      <td>drinks</td>\n",
              "      <td>6</td>\n",
              "      <td>morning rice kaleng makgeolli makoli air beras...</td>\n",
              "    </tr>\n",
              "    <tr>\n",
              "      <th>2022</th>\n",
              "      <td>Sari Lemon / Air Lemon Murni / Pure lemon Juic...</td>\n",
              "      <td>drinks</td>\n",
              "      <td>6</td>\n",
              "      <td>sari lemon air lemon murni pure lemon juice be...</td>\n",
              "    </tr>\n",
              "    <tr>\n",
              "      <th>4545</th>\n",
              "      <td>Vinega Cuka Apel / Apple Cider Vinegar 500ml</td>\n",
              "      <td>drinks</td>\n",
              "      <td>6</td>\n",
              "      <td>vinega cuka apel apple cider vinegar</td>\n",
              "    </tr>\n",
              "  </tbody>\n",
              "</table>\n",
              "<p>4956 rows × 4 columns</p>\n",
              "</div>"
            ],
            "text/plain": [
              "                                                context  ...                                               text\n",
              "5925                 parcel buah tanpa tangkai/pegangan  ...                       parcel buah tangkai pegangan\n",
              "204                          SEMBAKO MURAH BERKUALITAS!  ...                          sembako murah berkualitas\n",
              "5987  Parsel Ramadan Custom Cilok Djoedes, Healthy C...  ...  parsel ramadan custom cilok djoedes healthy ce...\n",
              "5866  PARCEL SPESIAL LEBARAN MURAH, MEWAH DAN BERKUA...  ...  parcel spesial lebaran murah mewah berkualitas...\n",
              "2416  PAKET COKLAT PRIORITAS DREAM BELLAROSA BINGKIS...  ...  paket coklat prioritas dream bellarosa bingkis...\n",
              "...                                                 ...  ...                                                ...\n",
              "4505  Madu Uray - Honey - Murni - Sehat - Madu Alami...  ...             madu uray honey murni sehat madu alami\n",
              "2006        Chocodrink Minuman Cokelat 28 gr x 5 sachet  ...             chocodrink minuman cokelat gr x sachet\n",
              "4692  Morning Rice 180ml kaleng - Makgeolli - Makoli...  ...  morning rice kaleng makgeolli makoli air beras...\n",
              "2022  Sari Lemon / Air Lemon Murni / Pure lemon Juic...  ...  sari lemon air lemon murni pure lemon juice be...\n",
              "4545       Vinega Cuka Apel / Apple Cider Vinegar 500ml  ...               vinega cuka apel apple cider vinegar\n",
              "\n",
              "[4956 rows x 4 columns]"
            ]
          },
          "metadata": {
            "tags": []
          },
          "execution_count": 17
        }
      ]
    },
    {
      "cell_type": "markdown",
      "metadata": {
        "id": "jxjJR6ufmg7y"
      },
      "source": [
        "# Modelling"
      ]
    },
    {
      "cell_type": "code",
      "metadata": {
        "colab": {
          "base_uri": "https://localhost:8080/"
        },
        "id": "DoLbxRzKVcQQ",
        "outputId": "fd1f5836-d79e-445e-e840-9cb7430b2c5f"
      },
      "source": [
        "#checking dataset value\n",
        "label = df['label_id'].values\n",
        "text = df['text'].values\n",
        "\n",
        "print('Value of [label_id]:', label, \"\\n\")\n",
        "print('Value of [text]:', text)"
      ],
      "execution_count": null,
      "outputs": [
        {
          "output_type": "stream",
          "text": [
            "Value of [label_id]: [0 0 0 ... 6 6 6] \n",
            "\n",
            "Value of [text]: ['parcel buah tangkai pegangan' 'sembako murah berkualitas'\n",
            " 'parsel ramadan custom cilok djoedes healthy cendol frozen food' ...\n",
            " 'morning rice kaleng makgeolli makoli air beras korea'\n",
            " 'sari lemon air lemon murni pure lemon juice beorganik'\n",
            " 'vinega cuka apel apple cider vinegar']\n"
          ],
          "name": "stdout"
        }
      ]
    },
    {
      "cell_type": "code",
      "metadata": {
        "id": "TexUHTRCVcNv"
      },
      "source": [
        "#max features\n",
        "maxfeatures = 20000\n",
        "\n",
        "#tokenization\n",
        "tokenizer = Tokenizer(num_words = maxfeatures)\n",
        "tokenizer.fit_on_texts(text)"
      ],
      "execution_count": null,
      "outputs": []
    },
    {
      "cell_type": "code",
      "metadata": {
        "colab": {
          "base_uri": "https://localhost:8080/"
        },
        "id": "r1-9nr3zVcLY",
        "outputId": "6cbeb063-f1ec-47b2-a1de-4154e76faca1"
      },
      "source": [
        "#max sequential per word in NN\n",
        "maxseqlen = max([len(i.split()) for i in text])\n",
        "print(maxseqlen)"
      ],
      "execution_count": null,
      "outputs": [
        {
          "output_type": "stream",
          "text": [
            "14\n"
          ],
          "name": "stdout"
        }
      ]
    },
    {
      "cell_type": "code",
      "metadata": {
        "colab": {
          "base_uri": "https://localhost:8080/"
        },
        "id": "cDqxcjUPVcIl",
        "outputId": "84854c68-5a4e-486d-8eed-abd5bb94db6d"
      },
      "source": [
        "X = tokenizer.texts_to_sequences(text)\n",
        "X = pad_sequences(X, maxlen = maxseqlen)\n",
        "y = to_categorical(label, num_classes = 7)\n",
        "\n",
        "print(\"Shape of data tensor ['text']:\", X.shape)\n",
        "print(\"Shape of data tensor ['label']:\", y.shape)"
      ],
      "execution_count": null,
      "outputs": [
        {
          "output_type": "stream",
          "text": [
            "Shape of data tensor ['text']: (4956, 14)\n",
            "Shape of data tensor ['label']: (4956, 7)\n"
          ],
          "name": "stdout"
        }
      ]
    },
    {
      "cell_type": "code",
      "metadata": {
        "colab": {
          "base_uri": "https://localhost:8080/"
        },
        "id": "a0GYwhxKVcFl",
        "outputId": "620416a3-3f0b-4ec9-bc72-781036c72cc4"
      },
      "source": [
        "#tokening word index\n",
        "tokenizer.word_index"
      ],
      "execution_count": null,
      "outputs": [
        {
          "output_type": "execute_result",
          "data": {
            "text/plain": [
              "{'frozen': 1,\n",
              " 'paket': 2,\n",
              " 'madu': 3,\n",
              " 'asli': 4,\n",
              " 'isi': 5,\n",
              " 'hampers': 6,\n",
              " 'kue': 7,\n",
              " 'lebaran': 8,\n",
              " 'ayam': 9,\n",
              " 'parcel': 10,\n",
              " 'original': 11,\n",
              " 'kg': 12,\n",
              " 'gram': 13,\n",
              " 'premium': 14,\n",
              " 'goreng': 15,\n",
              " 'gr': 16,\n",
              " 'kacang': 17,\n",
              " 'murah': 18,\n",
              " 'buah': 19,\n",
              " 'khas': 20,\n",
              " 'bawang': 21,\n",
              " 'beku': 22,\n",
              " 'kering': 23,\n",
              " 'cookies': 24,\n",
              " 'sapi': 25,\n",
              " 'bumbu': 26,\n",
              " 'manis': 27,\n",
              " 'halal': 28,\n",
              " 'pcs': 29,\n",
              " 'murni': 30,\n",
              " 'box': 31,\n",
              " 'gula': 32,\n",
              " 'daging': 33,\n",
              " 'sembako': 34,\n",
              " 'ikan': 35,\n",
              " 'bubuk': 36,\n",
              " 'pedas': 37,\n",
              " 'parsel': 38,\n",
              " 'kentang': 39,\n",
              " 'keju': 40,\n",
              " 'super': 41,\n",
              " 'coklat': 42,\n",
              " 'honey': 43,\n",
              " 'sambal': 44,\n",
              " 'roti': 45,\n",
              " 'as': 46,\n",
              " 'mix': 47,\n",
              " 'chicken': 48,\n",
              " 'ml': 49,\n",
              " 'keripik': 50,\n",
              " 'pempek': 51,\n",
              " 'lemon': 52,\n",
              " 'termurah': 53,\n",
              " 'cake': 54,\n",
              " 'merah': 55,\n",
              " 'bali': 56,\n",
              " 'sari': 57,\n",
              " 'idul': 58,\n",
              " 'fitri': 59,\n",
              " 'panggang': 60,\n",
              " 'enak': 61,\n",
              " 'kulit': 62,\n",
              " 'babi': 63,\n",
              " 'beef': 64,\n",
              " 'free': 65,\n",
              " 'rendang': 66,\n",
              " 'almond': 67,\n",
              " 'by': 68,\n",
              " 'food': 69,\n",
              " 'al': 70,\n",
              " 'ramadan': 71,\n",
              " 'nastar': 72,\n",
              " 'udang': 73,\n",
              " 'ramadhan': 74,\n",
              " 'chocolate': 75,\n",
              " 'mini': 76,\n",
              " 'garam': 77,\n",
              " 'putih': 78,\n",
              " 'dendeng': 79,\n",
              " 'minuman': 80,\n",
              " 'promo': 81,\n",
              " 'bandung': 82,\n",
              " 'balado': 83,\n",
              " 'segar': 84,\n",
              " 'medan': 85,\n",
              " 'singkong': 86,\n",
              " 'nasi': 87,\n",
              " 'roll': 88,\n",
              " 'shifa': 89,\n",
              " 'bakso': 90,\n",
              " 'fresh': 91,\n",
              " 'a': 92,\n",
              " 'brownies': 93,\n",
              " 'baso': 94,\n",
              " 'mentah': 95,\n",
              " 'pia': 96,\n",
              " 'palembang': 97,\n",
              " 'homemade': 98,\n",
              " 'natural': 99,\n",
              " 'hutan': 100,\n",
              " 'siomay': 101,\n",
              " 'crispy': 102,\n",
              " 'air': 103,\n",
              " 'kebab': 104,\n",
              " 'korea': 105,\n",
              " 'snack': 106,\n",
              " 'komplit': 107,\n",
              " 'dimsum': 108,\n",
              " 'kerupuk': 109,\n",
              " 'susu': 110,\n",
              " 'lapis': 111,\n",
              " 'asin': 112,\n",
              " 'liter': 113,\n",
              " 'cheese': 114,\n",
              " 'kimchi': 115,\n",
              " 'pisang': 116,\n",
              " 'syrup': 117,\n",
              " 'ungkep': 118,\n",
              " 'strawberry': 119,\n",
              " 'kemasan': 120,\n",
              " 'stick': 121,\n",
              " 'powder': 122,\n",
              " 'cap': 123,\n",
              " 'makanan': 124,\n",
              " 'sehat': 125,\n",
              " 'sosis': 126,\n",
              " 'tenggiri': 127,\n",
              " 'cabe': 128,\n",
              " 'kripik': 129,\n",
              " 'soon': 130,\n",
              " 'possible': 131,\n",
              " 'raw': 132,\n",
              " 'fries': 133,\n",
              " 'gurih': 134,\n",
              " 'tea': 135,\n",
              " 'sirup': 136,\n",
              " 'import': 137,\n",
              " 'sauce': 138,\n",
              " 'salt': 139,\n",
              " 'bolu': 140,\n",
              " 'gift': 141,\n",
              " 'roasted': 142,\n",
              " 'jahe': 143,\n",
              " 'basah': 144,\n",
              " 'wedang': 145,\n",
              " 'alami': 146,\n",
              " 'teri': 147,\n",
              " 'dodol': 148,\n",
              " 'soft': 149,\n",
              " 'special': 150,\n",
              " 'aren': 151,\n",
              " 'uray': 152,\n",
              " 'jogja': 153,\n",
              " 'bandeng': 154,\n",
              " 'teh': 155,\n",
              " 'msg': 156,\n",
              " 'french': 157,\n",
              " 'bakpia': 158,\n",
              " 'hemat': 159,\n",
              " 'toples': 160,\n",
              " 'pure': 161,\n",
              " 'kaldu': 162,\n",
              " 'juice': 163,\n",
              " 'spesial': 164,\n",
              " 'ready': 165,\n",
              " 'cumi': 166,\n",
              " 'rice': 167,\n",
              " 'kupas': 168,\n",
              " 'non': 169,\n",
              " 'instan': 170,\n",
              " 'varian': 171,\n",
              " 'beras': 172,\n",
              " 'sugar': 173,\n",
              " 'uwuh': 174,\n",
              " 'bento': 175,\n",
              " 'lengkap': 176,\n",
              " 'grade': 177,\n",
              " 'iqf': 178,\n",
              " 'tempe': 179,\n",
              " 'dessert': 180,\n",
              " 'pack': 181,\n",
              " 'himalaya': 182,\n",
              " 'wisman': 183,\n",
              " 'solo': 184,\n",
              " 'bu': 185,\n",
              " 'saus': 186,\n",
              " 'lumpia': 187,\n",
              " 'garut': 188,\n",
              " 'pie': 189,\n",
              " 'cokelat': 190,\n",
              " 'cream': 191,\n",
              " 'zam': 192,\n",
              " 'emping': 193,\n",
              " 'no': 194,\n",
              " 'campur': 195,\n",
              " 'semarang': 196,\n",
              " 'jus': 197,\n",
              " 'kualitas': 198,\n",
              " 'jamur': 199,\n",
              " 'ny': 200,\n",
              " 'aci': 201,\n",
              " 'package': 202,\n",
              " 'legit': 203,\n",
              " 'bangka': 204,\n",
              " 'cm': 205,\n",
              " 'kelapa': 206,\n",
              " 'g': 207,\n",
              " 'fish': 208,\n",
              " 'otak': 209,\n",
              " 'mixed': 210,\n",
              " 'merk': 211,\n",
              " 'bunga': 212,\n",
              " 'es': 213,\n",
              " 'sachet': 214,\n",
              " 'ukuran': 215,\n",
              " 'daun': 216,\n",
              " 'ekor': 217,\n",
              " 'shabu': 218,\n",
              " 'diet': 219,\n",
              " 'mede': 220,\n",
              " 's': 221,\n",
              " 'kuning': 222,\n",
              " 'minyak': 223,\n",
              " 'sale': 224,\n",
              " 'x': 225,\n",
              " 'drink': 226,\n",
              " 'cemilan': 227,\n",
              " 'ice': 228,\n",
              " 'vegan': 229,\n",
              " 'hijau': 230,\n",
              " 'mpek': 231,\n",
              " 'cut': 232,\n",
              " 'potong': 233,\n",
              " 'brebes': 234,\n",
              " 'hitam': 235,\n",
              " 'padang': 236,\n",
              " 'organic': 237,\n",
              " 'matang': 238,\n",
              " 'egg': 239,\n",
              " 'telur': 240,\n",
              " 'dark': 241,\n",
              " 'sambel': 242,\n",
              " 'kanzler': 243,\n",
              " 'perjamuan': 244,\n",
              " 'with': 245,\n",
              " 'malang': 246,\n",
              " 'best': 247,\n",
              " 'sayur': 248,\n",
              " 'alpukat': 249,\n",
              " 'berry': 250,\n",
              " 'empek': 251,\n",
              " 'surabaya': 252,\n",
              " 'bubble': 253,\n",
              " 'tipis': 254,\n",
              " 'biji': 255,\n",
              " 'oven': 256,\n",
              " 'hamper': 257,\n",
              " 'set': 258,\n",
              " 'pink': 259,\n",
              " 'organik': 260,\n",
              " 'sarang': 261,\n",
              " 'pork': 262,\n",
              " 'baby': 263,\n",
              " 'pengawet': 264,\n",
              " 'abon': 265,\n",
              " 'bakar': 266,\n",
              " 'tape': 267,\n",
              " 'harga': 268,\n",
              " 'krupuk': 269,\n",
              " 'kado': 270,\n",
              " 'masak': 271,\n",
              " 'botol': 272,\n",
              " 'ijo': 273,\n",
              " 'anggur': 274,\n",
              " 'jamu': 275,\n",
              " 'arab': 276,\n",
              " 'to': 277,\n",
              " 'jadul': 278,\n",
              " 'pastry': 279,\n",
              " 'dried': 280,\n",
              " 'durian': 281,\n",
              " 'shoestring': 282,\n",
              " 'of': 283,\n",
              " 'jumbo': 284,\n",
              " 'peach': 285,\n",
              " 'smoked': 286,\n",
              " 'japanese': 287,\n",
              " 'fruit': 288,\n",
              " 'laut': 289,\n",
              " 'dijamin': 290,\n",
              " 'himalayan': 291,\n",
              " 'renyah': 292,\n",
              " 'cakalang': 293,\n",
              " 'paru': 294,\n",
              " 'bread': 295,\n",
              " 'choco': 296,\n",
              " 'orang': 297,\n",
              " 'grosir': 298,\n",
              " 'milk': 299,\n",
              " 'jeruk': 300,\n",
              " 'sea': 301,\n",
              " 'jagung': 302,\n",
              " 'asam': 303,\n",
              " 'korean': 304,\n",
              " 'pangsit': 305,\n",
              " 'caramel': 306,\n",
              " 'melinjo': 307,\n",
              " 'soda': 308,\n",
              " 'plus': 309,\n",
              " 'vanilla': 310,\n",
              " 'quality': 311,\n",
              " 'ekonomis': 312,\n",
              " 'cedea': 313,\n",
              " 'rempah': 314,\n",
              " 'made': 315,\n",
              " 'batu': 316,\n",
              " 'cair': 317,\n",
              " 'makan': 318,\n",
              " 'mie': 319,\n",
              " 'aceh': 320,\n",
              " 'sate': 321,\n",
              " 'blueberry': 322,\n",
              " 'diamond': 323,\n",
              " 'berries': 324,\n",
              " 'butter': 325,\n",
              " 'topping': 326,\n",
              " 'kitchen': 327,\n",
              " 'kudus': 328,\n",
              " 'bulat': 329,\n",
              " 'krim': 330,\n",
              " 'presto': 331,\n",
              " 'croissant': 332,\n",
              " 'halus': 333,\n",
              " 'golden': 334,\n",
              " 'bebek': 335,\n",
              " 'herbal': 336,\n",
              " 'siok': 337,\n",
              " 'slice': 338,\n",
              " 'gulung': 339,\n",
              " 'mete': 340,\n",
              " 'fiesta': 341,\n",
              " 'baduy': 342,\n",
              " 'water': 343,\n",
              " 'utuh': 344,\n",
              " 'kurma': 345,\n",
              " 'kebuli': 346,\n",
              " 'odeng': 347,\n",
              " 'gum': 348,\n",
              " 'in': 349,\n",
              " 'kotak': 350,\n",
              " 'hosti': 351,\n",
              " 'kopi': 352,\n",
              " 'saji': 353,\n",
              " 'farm': 354,\n",
              " 'seller': 355,\n",
              " 'baked': 356,\n",
              " 'aneka': 357,\n",
              " 'sirsak': 358,\n",
              " 'oil': 359,\n",
              " 'jawa': 360,\n",
              " 'ebi': 361,\n",
              " 'sayuran': 362,\n",
              " 'kampung': 363,\n",
              " 'kunyit': 364,\n",
              " 'manisan': 365,\n",
              " 'multiflora': 366,\n",
              " 'donat': 367,\n",
              " 'selai': 368,\n",
              " 'risol': 369,\n",
              " 'terlaris': 370,\n",
              " 'alshifa': 371,\n",
              " 'brown': 372,\n",
              " 'bernardi': 373,\n",
              " 'kayu': 374,\n",
              " 'nugget': 375,\n",
              " 'sei': 376,\n",
              " 'edo': 377,\n",
              " 'gyoza': 378,\n",
              " 'pizza': 379,\n",
              " 'tulang': 380,\n",
              " 'sawi': 381,\n",
              " 'whole': 382,\n",
              " 'kalimantan': 383,\n",
              " 'walnut': 384,\n",
              " 'sus': 385,\n",
              " 'empon': 386,\n",
              " 'bingkisan': 387,\n",
              " 'cinnamon': 388,\n",
              " 'jepang': 389,\n",
              " 'uk': 390,\n",
              " 'medium': 391,\n",
              " 'porsi': 392,\n",
              " 'size': 393,\n",
              " 'soes': 394,\n",
              " 'kuah': 395,\n",
              " 'paper': 396,\n",
              " 'green': 397,\n",
              " 'kismis': 398,\n",
              " 'coconut': 399,\n",
              " 'salad': 400,\n",
              " 'muda': 401,\n",
              " 'all': 402,\n",
              " 'ketan': 403,\n",
              " 'bombay': 404,\n",
              " 'spicy': 405,\n",
              " 'instant': 406,\n",
              " 'kremes': 407,\n",
              " 'tawar': 408,\n",
              " 'asem': 409,\n",
              " 'gluten': 410,\n",
              " 'small': 411,\n",
              " 'keranjang': 412,\n",
              " 'samosa': 413,\n",
              " 'indonesia': 414,\n",
              " 'mentai': 415,\n",
              " 'candy': 416,\n",
              " 'steamboat': 417,\n",
              " 'tepung': 418,\n",
              " 'oseng': 419,\n",
              " 'puff': 420,\n",
              " 'stik': 421,\n",
              " 'mak': 422,\n",
              " 'grab': 423,\n",
              " 'pepper': 424,\n",
              " 'crab': 425,\n",
              " 'rujak': 426,\n",
              " 'level': 427,\n",
              " 'mustofa': 428,\n",
              " 'gandum': 429,\n",
              " 'ubi': 430,\n",
              " 'chips': 431,\n",
              " 'cane': 432,\n",
              " 'maryam': 433,\n",
              " 'bakpao': 434,\n",
              " 'polos': 435,\n",
              " 'blue': 436,\n",
              " 'straight': 437,\n",
              " 'vegetables': 438,\n",
              " 'gholiban': 439,\n",
              " 'berkualitas': 440,\n",
              " 'cendol': 441,\n",
              " 'red': 442,\n",
              " 'geprek': 443,\n",
              " 'classic': 444,\n",
              " 'jar': 445,\n",
              " 'clover': 446,\n",
              " 'suwir': 447,\n",
              " 'c': 448,\n",
              " 'ala': 449,\n",
              " 'meal': 450,\n",
              " 'tuna': 451,\n",
              " 'burger': 452,\n",
              " 'wijen': 453,\n",
              " 'my': 454,\n",
              " 'rumput': 455,\n",
              " 'ginger': 456,\n",
              " 'cranberry': 457,\n",
              " 'vegetarian': 458,\n",
              " 'oregano': 459,\n",
              " 'giling': 460,\n",
              " 'tortilla': 461,\n",
              " 'cincang': 462,\n",
              " 'seaweed': 463,\n",
              " 'petis': 464,\n",
              " 'plastik': 465,\n",
              " 'terasi': 466,\n",
              " 'hot': 467,\n",
              " 'salted': 468,\n",
              " 'tradisional': 469,\n",
              " 'tanah': 470,\n",
              " 'pontianak': 471,\n",
              " 'mangga': 472,\n",
              " 'prima': 473,\n",
              " 'boci': 474,\n",
              " 'kukus': 475,\n",
              " 'forest': 476,\n",
              " 'sagu': 477,\n",
              " 'lidi': 478,\n",
              " 'trieste': 479,\n",
              " 'nektar': 480,\n",
              " 'liang': 481,\n",
              " 'healthy': 482,\n",
              " 'crunchy': 483,\n",
              " 'gudeg': 484,\n",
              " 'yu': 485,\n",
              " 'home': 486,\n",
              " 'royal': 487,\n",
              " 'picnic': 488,\n",
              " 'mayo': 489,\n",
              " 'pudding': 490,\n",
              " 'natal': 491,\n",
              " 'full': 492,\n",
              " 'pecah': 493,\n",
              " 'i': 494,\n",
              " 'gojek': 495,\n",
              " 'jelly': 496,\n",
              " 'imogiri': 497,\n",
              " 'tunggal': 498,\n",
              " 'lidah': 499,\n",
              " 'ori': 500,\n",
              " 'rosemary': 501,\n",
              " 'shan': 502,\n",
              " 'kating': 503,\n",
              " 'dumpling': 504,\n",
              " 'kikkoman': 505,\n",
              " 'raisin': 506,\n",
              " 'pete': 507,\n",
              " 'empal': 508,\n",
              " 'bbq': 509,\n",
              " 'krecek': 510,\n",
              " 'vacuum': 511,\n",
              " 'horeca': 512,\n",
              " 'betawi': 513,\n",
              " 'biskuit': 514,\n",
              " 'dhian': 515,\n",
              " 'shirley': 516,\n",
              " 'cireng': 517,\n",
              " 'pentol': 518,\n",
              " 'monin': 519,\n",
              " 'meriah': 520,\n",
              " 'exclusive': 521,\n",
              " 'dus': 522,\n",
              " 'kaleng': 523,\n",
              " 'cookie': 524,\n",
              " 'cocoa': 525,\n",
              " 'salmon': 526,\n",
              " 'serundeng': 527,\n",
              " 'seed': 528,\n",
              " 'lagie': 529,\n",
              " 'mushroom': 530,\n",
              " 'family': 531,\n",
              " 'fudgy': 532,\n",
              " 'mochi': 533,\n",
              " 'burung': 534,\n",
              " 'kecap': 535,\n",
              " 'variant': 536,\n",
              " 'apple': 537,\n",
              " 'dapur': 538,\n",
              " 'plum': 539,\n",
              " 'leaves': 540,\n",
              " 'black': 541,\n",
              " 'berat': 542,\n",
              " 'sweet': 543,\n",
              " 'vietnam': 544,\n",
              " 'lobak': 545,\n",
              " 'bacon': 546,\n",
              " 'belly': 547,\n",
              " 'don': 548,\n",
              " 'singapore': 549,\n",
              " 'gepuk': 550,\n",
              " 'pasar': 551,\n",
              " 'asinan': 552,\n",
              " 'keto': 553,\n",
              " 'shrimp': 554,\n",
              " 'canai': 555,\n",
              " 'chiffon': 556,\n",
              " 'legong': 557,\n",
              " 'mentega': 558,\n",
              " 'lychee': 559,\n",
              " 'cilok': 560,\n",
              " 'rolls': 561,\n",
              " 'paha': 562,\n",
              " 'valentine': 563,\n",
              " 'topokki': 564,\n",
              " 'hantaran': 565,\n",
              " 'wijsman': 566,\n",
              " 'nest': 567,\n",
              " 'juwana': 568,\n",
              " 'fruits': 569,\n",
              " 'the': 570,\n",
              " 'kari': 571,\n",
              " 'oma': 572,\n",
              " 'bungkus': 573,\n",
              " 'nori': 574,\n",
              " 'walet': 575,\n",
              " 'reguler': 576,\n",
              " 'orange': 577,\n",
              " 'granola': 578,\n",
              " 'catering': 579,\n",
              " 'gold': 580,\n",
              " 'batagor': 581,\n",
              " 'lezat': 582,\n",
              " 'seasoning': 583,\n",
              " 'taste': 584,\n",
              " 'totole': 585,\n",
              " 'cabai': 586,\n",
              " 'biryani': 587,\n",
              " 'garlic': 588,\n",
              " 'pasta': 589,\n",
              " 'kemplang': 590,\n",
              " 'kencur': 591,\n",
              " 'resep': 592,\n",
              " 'lengkuas': 593,\n",
              " 'garing': 594,\n",
              " 'langsung': 595,\n",
              " 'samcan': 596,\n",
              " 'usus': 597,\n",
              " 'l': 598,\n",
              " 'bakeshop': 599,\n",
              " 'peking': 600,\n",
              " 'mesran': 601,\n",
              " 'malaysia': 602,\n",
              " 'mas': 603,\n",
              " 'duri': 604,\n",
              " 'lunak': 605,\n",
              " 'rangu': 606,\n",
              " 'mangkok': 607,\n",
              " 'meranti': 608,\n",
              " 'risoles': 609,\n",
              " 'oat': 610,\n",
              " 'bos': 611,\n",
              " 'blackberry': 612,\n",
              " 'raspberry': 613,\n",
              " 'brokoli': 614,\n",
              " 'avocado': 615,\n",
              " 'kk': 616,\n",
              " 'tava': 617,\n",
              " 'ekstrak': 618,\n",
              " 'maple': 619,\n",
              " 'eat': 620,\n",
              " 'topoki': 621,\n",
              " 'tteokbokki': 622,\n",
              " 'cup': 623,\n",
              " 'bird': 624,\n",
              " 'en': 625,\n",
              " 'cashew': 626,\n",
              " 'bogor': 627,\n",
              " 'aman': 628,\n",
              " 'sidoarjo': 629,\n",
              " 'aviko': 630,\n",
              " 'banana': 631,\n",
              " 'house': 632,\n",
              " 'rock': 633,\n",
              " 'rudy': 634,\n",
              " 'paste': 635,\n",
              " 'skin': 636,\n",
              " 'chili': 637,\n",
              " 'resto': 638,\n",
              " 'flakes': 639,\n",
              " 'white': 640,\n",
              " 'mint': 641,\n",
              " 'java': 642,\n",
              " 'kembang': 643,\n",
              " 'diameter': 644,\n",
              " 'usa': 645,\n",
              " 'batokok': 646,\n",
              " 'otaji': 647,\n",
              " 'pandan': 648,\n",
              " 'jember': 649,\n",
              " 'tekwan': 650,\n",
              " 'fillet': 651,\n",
              " 'bakmi': 652,\n",
              " 'nusantara': 653,\n",
              " 'multigrain': 654,\n",
              " 'plain': 655,\n",
              " 'pastel': 656,\n",
              " 'combro': 657,\n",
              " 'lumba': 658,\n",
              " 'broccoli': 659,\n",
              " 'coated': 660,\n",
              " 'nuget': 661,\n",
              " 'tinggal': 662,\n",
              " 'manuka': 663,\n",
              " 'custom': 664,\n",
              " 'only': 665,\n",
              " 'bellarosa': 666,\n",
              " 'velvet': 667,\n",
              " 'aqiqah': 668,\n",
              " 'aroma': 669,\n",
              " 'regular': 670,\n",
              " 'misol': 671,\n",
              " 'kambing': 672,\n",
              " 'toppoki': 673,\n",
              " 'bakery': 674,\n",
              " 'eid': 675,\n",
              " 'coffee': 676,\n",
              " 'gyukaku': 677,\n",
              " 'besek': 678,\n",
              " 'double': 679,\n",
              " 'permen': 680,\n",
              " 'delfi': 681,\n",
              " 'stroberi': 682,\n",
              " 'extra': 683,\n",
              " 'salju': 684,\n",
              " 'jakarta': 685,\n",
              " 'm': 686,\n",
              " 'edition': 687,\n",
              " 'packing': 688,\n",
              " 'kucing': 689,\n",
              " 'butcher': 690,\n",
              " 'ladang': 691,\n",
              " 'tua': 692,\n",
              " 'lontong': 693,\n",
              " 'khusus': 694,\n",
              " 'mercon': 695,\n",
              " 'iga': 696,\n",
              " 'bersih': 697,\n",
              " 'dashi': 698,\n",
              " 'parsley': 699,\n",
              " 'pecel': 700,\n",
              " 'warna': 701,\n",
              " 'barbeque': 702,\n",
              " 'jempol': 703,\n",
              " 'madiun': 704,\n",
              " 'wrap': 705,\n",
              " 'mandhi': 706,\n",
              " 'lampung': 707,\n",
              " 'semur': 708,\n",
              " 'banh': 709,\n",
              " 'trang': 710,\n",
              " 'dibungkus': 711,\n",
              " 'curry': 712,\n",
              " 'corn': 713,\n",
              " 'jengkol': 714,\n",
              " 'katsu': 715,\n",
              " 'kiamboy': 716,\n",
              " 'christine': 717,\n",
              " 'hakim': 718,\n",
              " 'thailand': 719,\n",
              " 'kedondong': 720,\n",
              " 'urat': 721,\n",
              " 'kiloan': 722,\n",
              " 'chip': 723,\n",
              " 'eiji': 724,\n",
              " 'bika': 725,\n",
              " 'ambon': 726,\n",
              " 'nanas': 727,\n",
              " 'jajanan': 728,\n",
              " 'macaron': 729,\n",
              " 'lunpia': 730,\n",
              " 'rengginang': 731,\n",
              " 'cocktail': 732,\n",
              " 'belfoods': 733,\n",
              " 'naget': 734,\n",
              " 'buto': 735,\n",
              " 'mango': 736,\n",
              " 'suku': 737,\n",
              " 'schweppes': 738,\n",
              " 'karet': 739,\n",
              " 'kizz': 740,\n",
              " 'kartu': 741,\n",
              " 'djum': 742,\n",
              " 'bundling': 743,\n",
              " 'recipe': 744,\n",
              " 'endorphins': 745,\n",
              " 'platinum': 746,\n",
              " 'nutella': 747,\n",
              " 'bake': 748,\n",
              " 'kolacica': 749,\n",
              " 'praktis': 750,\n",
              " 'kirim': 751,\n",
              " 'silver': 752,\n",
              " 'putri': 753,\n",
              " 'roast': 754,\n",
              " 'palm': 755,\n",
              " 'new': 756,\n",
              " 'collagen': 757,\n",
              " 'burgreens': 758,\n",
              " 'cuka': 759,\n",
              " 'briyani': 760,\n",
              " 'wakame': 761,\n",
              " 'banget': 762,\n",
              " 'pouch': 763,\n",
              " 'impor': 764,\n",
              " 'sheet': 765,\n",
              " 'edamame': 766,\n",
              " 'olive': 767,\n",
              " 'solusi': 768,\n",
              " 'katsuobushi': 769,\n",
              " 'jual': 770,\n",
              " 'vinegar': 771,\n",
              " 'roa': 772,\n",
              " 'batok': 773,\n",
              " 'linggau': 774,\n",
              " 'kasar': 775,\n",
              " 'manado': 776,\n",
              " 'acar': 777,\n",
              " 'curah': 778,\n",
              " 'jaya': 779,\n",
              " 'repack': 780,\n",
              " 'matahari': 781,\n",
              " 'lokal': 782,\n",
              " 'authentic': 783,\n",
              " 'molen': 784,\n",
              " 'laos': 785,\n",
              " 'italian': 786,\n",
              " 'telor': 787,\n",
              " 'flour': 788,\n",
              " 'iris': 789,\n",
              " 'fufu': 790,\n",
              " 'warisan': 791,\n",
              " 'minang': 792,\n",
              " 'anak': 793,\n",
              " 'somay': 794,\n",
              " 'seblak': 795,\n",
              " 'sesa': 796,\n",
              " 'krispi': 797,\n",
              " 'dori': 798,\n",
              " 'gratis': 799,\n",
              " 'sausage': 800,\n",
              " 'eomuk': 801,\n",
              " 'rolled': 802,\n",
              " 'po': 803,\n",
              " 'agung': 804,\n",
              " 'spikoe': 805,\n",
              " 'pathok': 806,\n",
              " 'nestle': 807,\n",
              " 'kastengel': 808,\n",
              " 'cheesecake': 809,\n",
              " 'burnt': 810,\n",
              " 'manggis': 811,\n",
              " 'basreng': 812,\n",
              " 'nangka': 813,\n",
              " 'pistachio': 814,\n",
              " 'mente': 815,\n",
              " 'lapchiong': 816,\n",
              " 'crinkle': 817,\n",
              " 'eggroll': 818,\n",
              " 'eskrim': 819,\n",
              " 'foods': 820,\n",
              " 'pahit': 821,\n",
              " 'temulawak': 822,\n",
              " 'pramuka': 823,\n",
              " 'propolis': 824,\n",
              " 'leci': 825,\n",
              " 'sereh': 826,\n",
              " 'thai': 827,\n",
              " 'limited': 828,\n",
              " 'ucapan': 829,\n",
              " 'sushi': 830,\n",
              " 'saos': 831,\n",
              " 'taro': 832,\n",
              " 'brand': 833,\n",
              " 'bag': 834,\n",
              " 'denali': 835,\n",
              " 'ayat': 836,\n",
              " 'le': 837,\n",
              " 'snow': 838,\n",
              " 'suki': 839,\n",
              " 'kenyang': 840,\n",
              " 'squeeze': 841,\n",
              " 'cook': 842,\n",
              " 'sekat': 843,\n",
              " 'bun': 844,\n",
              " 'ulang': 845,\n",
              " 'popcorn': 846,\n",
              " 'cuanki': 847,\n",
              " 'nut': 848,\n",
              " 'jnc': 849,\n",
              " 'birthday': 850,\n",
              " 'bundle': 851,\n",
              " 'b': 852,\n",
              " 'cuko': 853,\n",
              " 'liwet': 854,\n",
              " 'saffron': 855,\n",
              " 'roku': 856,\n",
              " 'bekulo': 857,\n",
              " 'ketumbar': 858,\n",
              " 'teriyaki': 859,\n",
              " 'lada': 860,\n",
              " 'javara': 861,\n",
              " 'beorganik': 862,\n",
              " 'sobek': 863,\n",
              " 'produksi': 864,\n",
              " 'slim': 865,\n",
              " 'soy': 866,\n",
              " 'buatan': 867,\n",
              " 'apel': 868,\n",
              " 'sesame': 869,\n",
              " 'gado': 870,\n",
              " 'matah': 871,\n",
              " 'kriuk': 872,\n",
              " 'udon': 873,\n",
              " 'koki': 874,\n",
              " 'kuno': 875,\n",
              " 'kalasan': 876,\n",
              " 'gabus': 877,\n",
              " 'terenak': 878,\n",
              " 'miso': 879,\n",
              " 'pearl': 880,\n",
              " 'selera': 881,\n",
              " 'diabetes': 882,\n",
              " 'koepoe': 883,\n",
              " 'rica': 884,\n",
              " 'madura': 885,\n",
              " 'potato': 886,\n",
              " 'restoran': 887,\n",
              " 'empuk': 888,\n",
              " 'mama': 889,\n",
              " 'haji': 890,\n",
              " 'jenang': 891,\n",
              " 'kremesan': 892,\n",
              " 'terbaik': 893,\n",
              " 'karuhun': 894,\n",
              " 'tampah': 895,\n",
              " 'oats': 896,\n",
              " 'bitterballen': 897,\n",
              " 'so': 898,\n",
              " 'good': 899,\n",
              " 'warni': 900,\n",
              " 'kesehatan': 901,\n",
              " 'bites': 902,\n",
              " 'line': 903,\n",
              " 'gambang': 904,\n",
              " 'marmer': 905,\n",
              " 'enaaak': 906,\n",
              " 'tiramisu': 907,\n",
              " 'lumer': 908,\n",
              " 'bakpiaku': 909,\n",
              " 'bolen': 910,\n",
              " 'netto': 911,\n",
              " 'pc': 912,\n",
              " 'pao': 913,\n",
              " 'salatiga': 914,\n",
              " 'si': 915,\n",
              " 'dakak': 916,\n",
              " 'hazelnut': 917,\n",
              " 'hotel': 918,\n",
              " 'kopyor': 919,\n",
              " 'yona': 920,\n",
              " 'sambosa': 921,\n",
              " 'gila': 922,\n",
              " 'way': 923,\n",
              " 'sumbawa': 924,\n",
              " 'lemoneva': 925,\n",
              " 'randu': 926,\n",
              " 'country': 927,\n",
              " 'lebah': 928,\n",
              " 'lemona': 929,\n",
              " 'umf': 930,\n",
              " 'probiotik': 931,\n",
              " 'hevea': 932,\n",
              " 'haldin': 933,\n",
              " 'ramune': 934,\n",
              " 'laki': 935,\n",
              " 'jeol': 936,\n",
              " 'vitamin': 937,\n",
              " 'untung': 938,\n",
              " 'raya': 939,\n",
              " 'silverqueen': 940,\n",
              " 'ultah': 941,\n",
              " 'kareem': 942,\n",
              " 'eatsambel': 943,\n",
              " 'manna': 944,\n",
              " 'biscuit': 945,\n",
              " 'minum': 946,\n",
              " 'vico': 947,\n",
              " 'raja': 948,\n",
              " 'ndalem': 949,\n",
              " 'vacum': 950,\n",
              " 'puasa': 951,\n",
              " 'istimewa': 952,\n",
              " 'laris': 953,\n",
              " 'kota': 954,\n",
              " 'star': 955,\n",
              " 'large': 956,\n",
              " 'normal': 957,\n",
              " 'patties': 958,\n",
              " 'j': 959,\n",
              " 'imlek': 960,\n",
              " 'indah': 961,\n",
              " 'tomyam': 962,\n",
              " 'quick': 963,\n",
              " 'jajan': 964,\n",
              " 'chuka': 965,\n",
              " 'crincle': 966,\n",
              " 'soursop': 967,\n",
              " 'seindonesia': 968,\n",
              " 'cafe': 969,\n",
              " 'basmati': 970,\n",
              " 'cirebon': 971,\n",
              " 'and': 972,\n",
              " 'ko': 973,\n",
              " 'mamasuka': 974,\n",
              " 'kedelai': 975,\n",
              " 'jinten': 976,\n",
              " 'from': 977,\n",
              " 'gochugaru': 978,\n",
              " 'cairo': 979,\n",
              " 'fried': 980,\n",
              " 'semut': 981,\n",
              " 'tauco': 982,\n",
              " 'gochujang': 983,\n",
              " 'mirin': 984,\n",
              " 'koin': 985,\n",
              " 'jamin': 986,\n",
              " 'fixing': 987,\n",
              " 'gosend': 988,\n",
              " 'coarse': 989,\n",
              " 'tropicana': 990,\n",
              " 'marinasi': 991,\n",
              " 'campuran': 992,\n",
              " 'jari': 993,\n",
              " 'toboali': 994,\n",
              " 'kewpie': 995,\n",
              " 'sangrai': 996,\n",
              " 'ati': 997,\n",
              " 'kani': 998,\n",
              " 'ramen': 999,\n",
              " 'bak': 1000,\n",
              " ...}"
            ]
          },
          "metadata": {
            "tags": []
          },
          "execution_count": 22
        }
      ]
    },
    {
      "cell_type": "code",
      "metadata": {
        "colab": {
          "base_uri": "https://localhost:8080/"
        },
        "id": "fH0jPY3RVcC_",
        "outputId": "7bd3f9cf-f4ad-4f72-b70e-13db189b9ac2"
      },
      "source": [
        "#determine vocab data used\n",
        "vocab = max([len(tokenizer.word_index)]) + 1\n",
        "vocab"
      ],
      "execution_count": null,
      "outputs": [
        {
          "output_type": "execute_result",
          "data": {
            "text/plain": [
              "4078"
            ]
          },
          "metadata": {
            "tags": []
          },
          "execution_count": 23
        }
      ]
    },
    {
      "cell_type": "code",
      "metadata": {
        "id": "38cEQr6-YFqp"
      },
      "source": [
        "#initializer\n",
        "initializer = initializers.RandomUniform(minval = -0.05, maxval = 0.05, seed = 2)"
      ],
      "execution_count": null,
      "outputs": []
    },
    {
      "cell_type": "code",
      "metadata": {
        "colab": {
          "base_uri": "https://localhost:8080/"
        },
        "id": "klYGHY33XKWi",
        "outputId": "a9ba13fc-20eb-4c67-c997-2c644e182ec9"
      },
      "source": [
        "#split dataset\n",
        "Xtrain, Xtest, ytrain, ytest = train_test_split(X, y, test_size = 0.15, random_state = 128)\n",
        "\n",
        "print(Xtrain.shape, ytrain.shape)\n",
        "print(Xtest.shape, ytest.shape)"
      ],
      "execution_count": null,
      "outputs": [
        {
          "output_type": "stream",
          "text": [
            "(4212, 14) (4212, 7)\n",
            "(744, 14) (744, 7)\n"
          ],
          "name": "stdout"
        }
      ]
    },
    {
      "cell_type": "code",
      "metadata": {
        "colab": {
          "base_uri": "https://localhost:8080/"
        },
        "id": "1g6j3_AeXKUC",
        "outputId": "fa7d34d1-3ef3-409c-a157-7a12a7206be1"
      },
      "source": [
        "#architecture model\n",
        "model = Sequential()\n",
        "model.add(Embedding(input_dim = maxfeatures, output_dim = 128, input_length = maxseqlen, embeddings_initializer = initializer))\n",
        "model.add(Bidirectional(GRU(200, return_sequences = True, kernel_initializer = initializer)))\n",
        "model.add(GlobalMaxPool1D())\n",
        "model.add(Dropout(0.1))\n",
        "model.add(Dense(512, activation='relu'))\n",
        "model.add(Dropout(0.1))\n",
        "model.add(Dense(256, activation='relu'))\n",
        "model.add(Dropout(0.1))\n",
        "model.add(Dense(128, activation='relu'))\n",
        "model.add(Dropout(0.1))\n",
        "model.add(Dense(64, activation='relu'))\n",
        "model.add(Dropout(0.1))\n",
        "model.add(Dense(32, activation='relu'))\n",
        "model.add(Dropout(0.1))\n",
        "model.add(Dense(7, activation='softmax'))\n",
        "\n",
        "model.compile(optimizer='adam', loss='categorical_crossentropy', metrics=['accuracy'])\n",
        "model.summary()"
      ],
      "execution_count": null,
      "outputs": [
        {
          "output_type": "stream",
          "text": [
            "Model: \"sequential_1\"\n",
            "_________________________________________________________________\n",
            "Layer (type)                 Output Shape              Param #   \n",
            "=================================================================\n",
            "embedding_1 (Embedding)      (None, 14, 128)           2560000   \n",
            "_________________________________________________________________\n",
            "bidirectional_1 (Bidirection (None, 14, 400)           396000    \n",
            "_________________________________________________________________\n",
            "global_max_pooling1d_1 (Glob (None, 400)               0         \n",
            "_________________________________________________________________\n",
            "dropout_6 (Dropout)          (None, 400)               0         \n",
            "_________________________________________________________________\n",
            "dense_6 (Dense)              (None, 512)               205312    \n",
            "_________________________________________________________________\n",
            "dropout_7 (Dropout)          (None, 512)               0         \n",
            "_________________________________________________________________\n",
            "dense_7 (Dense)              (None, 256)               131328    \n",
            "_________________________________________________________________\n",
            "dropout_8 (Dropout)          (None, 256)               0         \n",
            "_________________________________________________________________\n",
            "dense_8 (Dense)              (None, 128)               32896     \n",
            "_________________________________________________________________\n",
            "dropout_9 (Dropout)          (None, 128)               0         \n",
            "_________________________________________________________________\n",
            "dense_9 (Dense)              (None, 64)                8256      \n",
            "_________________________________________________________________\n",
            "dropout_10 (Dropout)         (None, 64)                0         \n",
            "_________________________________________________________________\n",
            "dense_10 (Dense)             (None, 32)                2080      \n",
            "_________________________________________________________________\n",
            "dropout_11 (Dropout)         (None, 32)                0         \n",
            "_________________________________________________________________\n",
            "dense_11 (Dense)             (None, 7)                 231       \n",
            "=================================================================\n",
            "Total params: 3,336,103\n",
            "Trainable params: 3,336,103\n",
            "Non-trainable params: 0\n",
            "_________________________________________________________________\n"
          ],
          "name": "stdout"
        }
      ]
    },
    {
      "cell_type": "code",
      "metadata": {
        "id": "TZc1GYg0c3yE"
      },
      "source": [
        "#declare checkpoint variable and early stopping to get best model\n",
        "file_path = 'save_best'\n",
        "checkpoint = ModelCheckpoint(file_path, monitor = 'val_acc', verbose = 1, save_best_only=True)\n",
        "early_stop = EarlyStopping(monitor = 'val_loss', patience = 10)"
      ],
      "execution_count": null,
      "outputs": []
    },
    {
      "cell_type": "code",
      "metadata": {
        "colab": {
          "base_uri": "https://localhost:8080/"
        },
        "id": "-5IHxK6bXKSH",
        "outputId": "c4f7f39c-ce2c-4f71-d56f-95fcd7a0cb9e"
      },
      "source": [
        "#training model\n",
        "start_time = datetime.now()\n",
        "history = model.fit(Xtrain, ytrain,\n",
        "                    batch_size = 64, epochs = 25, shuffle = True,\n",
        "                    validation_split = 0.1, verbose = 1)\n",
        "end_time = datetime.now()\n",
        "print(\"Time out: {}\".format(end_time - start_time))"
      ],
      "execution_count": null,
      "outputs": [
        {
          "output_type": "stream",
          "text": [
            "Epoch 1/25\n",
            "60/60 [==============================] - 12s 132ms/step - loss: 1.8953 - accuracy: 0.1893 - val_loss: 1.2330 - val_accuracy: 0.6280\n",
            "Epoch 2/25\n",
            "60/60 [==============================] - 7s 114ms/step - loss: 0.9552 - accuracy: 0.6430 - val_loss: 0.6265 - val_accuracy: 0.7749\n",
            "Epoch 3/25\n",
            "60/60 [==============================] - 7s 113ms/step - loss: 0.5230 - accuracy: 0.8329 - val_loss: 0.5369 - val_accuracy: 0.8460\n",
            "Epoch 4/25\n",
            "60/60 [==============================] - 7s 114ms/step - loss: 0.3261 - accuracy: 0.9131 - val_loss: 0.6392 - val_accuracy: 0.8270\n",
            "Epoch 5/25\n",
            "60/60 [==============================] - 7s 114ms/step - loss: 0.2422 - accuracy: 0.9328 - val_loss: 0.5777 - val_accuracy: 0.8341\n",
            "Epoch 6/25\n",
            "60/60 [==============================] - 7s 114ms/step - loss: 0.1739 - accuracy: 0.9521 - val_loss: 0.6619 - val_accuracy: 0.8389\n",
            "Epoch 7/25\n",
            "60/60 [==============================] - 7s 113ms/step - loss: 0.1441 - accuracy: 0.9605 - val_loss: 0.7004 - val_accuracy: 0.8507\n",
            "Epoch 8/25\n",
            "60/60 [==============================] - 7s 114ms/step - loss: 0.1136 - accuracy: 0.9703 - val_loss: 0.7315 - val_accuracy: 0.8341\n",
            "Epoch 9/25\n",
            "60/60 [==============================] - 7s 114ms/step - loss: 0.1233 - accuracy: 0.9661 - val_loss: 0.7441 - val_accuracy: 0.8389\n",
            "Epoch 10/25\n",
            "60/60 [==============================] - 7s 112ms/step - loss: 0.1013 - accuracy: 0.9726 - val_loss: 0.7190 - val_accuracy: 0.8507\n",
            "Epoch 11/25\n",
            "60/60 [==============================] - 7s 112ms/step - loss: 0.1062 - accuracy: 0.9693 - val_loss: 0.7598 - val_accuracy: 0.8460\n",
            "Epoch 12/25\n",
            "60/60 [==============================] - 7s 113ms/step - loss: 0.0977 - accuracy: 0.9710 - val_loss: 0.7749 - val_accuracy: 0.8412\n",
            "Epoch 13/25\n",
            "60/60 [==============================] - 7s 112ms/step - loss: 0.1008 - accuracy: 0.9691 - val_loss: 0.9176 - val_accuracy: 0.8341\n",
            "Epoch 14/25\n",
            "60/60 [==============================] - 7s 112ms/step - loss: 0.0932 - accuracy: 0.9728 - val_loss: 0.8595 - val_accuracy: 0.8365\n",
            "Epoch 15/25\n",
            "60/60 [==============================] - 7s 113ms/step - loss: 0.0916 - accuracy: 0.9722 - val_loss: 0.7513 - val_accuracy: 0.8460\n",
            "Epoch 16/25\n",
            "60/60 [==============================] - 7s 114ms/step - loss: 0.0681 - accuracy: 0.9768 - val_loss: 0.8706 - val_accuracy: 0.8460\n",
            "Epoch 17/25\n",
            "60/60 [==============================] - 7s 112ms/step - loss: 0.0699 - accuracy: 0.9764 - val_loss: 0.8812 - val_accuracy: 0.8507\n",
            "Epoch 18/25\n",
            "60/60 [==============================] - 7s 112ms/step - loss: 0.0733 - accuracy: 0.9751 - val_loss: 0.8149 - val_accuracy: 0.8412\n",
            "Epoch 19/25\n",
            "60/60 [==============================] - 7s 113ms/step - loss: 0.0702 - accuracy: 0.9765 - val_loss: 0.9654 - val_accuracy: 0.8436\n",
            "Epoch 20/25\n",
            "60/60 [==============================] - 7s 113ms/step - loss: 0.0725 - accuracy: 0.9775 - val_loss: 0.8417 - val_accuracy: 0.8389\n",
            "Epoch 21/25\n",
            "60/60 [==============================] - 7s 112ms/step - loss: 0.0591 - accuracy: 0.9772 - val_loss: 1.0424 - val_accuracy: 0.8341\n",
            "Epoch 22/25\n",
            "60/60 [==============================] - 7s 113ms/step - loss: 0.0554 - accuracy: 0.9800 - val_loss: 0.9708 - val_accuracy: 0.8318\n",
            "Epoch 23/25\n",
            "60/60 [==============================] - 7s 113ms/step - loss: 0.0535 - accuracy: 0.9820 - val_loss: 0.8670 - val_accuracy: 0.8365\n",
            "Epoch 24/25\n",
            "60/60 [==============================] - 7s 114ms/step - loss: 0.0816 - accuracy: 0.9735 - val_loss: 0.9464 - val_accuracy: 0.8246\n",
            "Epoch 25/25\n",
            "60/60 [==============================] - 7s 115ms/step - loss: 0.0688 - accuracy: 0.9756 - val_loss: 1.0203 - val_accuracy: 0.8412\n",
            "Time out: 0:03:26.027609\n"
          ],
          "name": "stdout"
        }
      ]
    },
    {
      "cell_type": "code",
      "metadata": {
        "id": "aO-WA9sqev1D"
      },
      "source": [
        "#build eveluation function\n",
        "def evaluation(model, X, Y):\n",
        "    Y_pred = model.predict(X)\n",
        "    Y_pred_class = np.argmax(Y_pred, axis=1)\n",
        "    rounded_labels=np.argmax(Y, axis=1)\n",
        "    Y_act = rounded_labels\n",
        "    \n",
        "    accuracy = accuracy_score(Y_act, Y_pred_class)\n",
        "    return accuracy"
      ],
      "execution_count": null,
      "outputs": []
    },
    {
      "cell_type": "code",
      "metadata": {
        "colab": {
          "base_uri": "https://localhost:8080/"
        },
        "id": "d1Rz1iaFXKM_",
        "outputId": "1d48c4b7-44c3-4775-ca6e-2e9fc926284e"
      },
      "source": [
        "accuracy = evaluation(model, Xtest, ytest)\n",
        "print('accuracy: %.3f' % (accuracy * 100), '%')"
      ],
      "execution_count": null,
      "outputs": [
        {
          "output_type": "stream",
          "text": [
            "accuracy: 85.484 %\n"
          ],
          "name": "stdout"
        }
      ]
    },
    {
      "cell_type": "code",
      "metadata": {
        "id": "uPg1gcwKXKKo"
      },
      "source": [
        "import pickle\n",
        "with open('/content/drive/Shareddrives/Bangkit Capstone/ml dev/model/bangkitcapstone.pickle', 'wb') as handle:\n",
        "    pickle.dump(tokenizer, handle, protocol=pickle.HIGHEST_PROTOCOL)\n",
        "\n",
        "model.save('/content/drive/Shareddrives/Bangkit Capstone/ml dev/model/bangkitcapstone.h5')"
      ],
      "execution_count": null,
      "outputs": []
    },
    {
      "cell_type": "markdown",
      "metadata": {
        "id": "KgEscKG_p_Er"
      },
      "source": [
        "# Prediction"
      ]
    },
    {
      "cell_type": "code",
      "metadata": {
        "id": "DD5EKSMHjlHm"
      },
      "source": [
        "model = load_model('/content/drive/Shareddrives/Bangkit Capstone/ml dev/model/bangkitcapstone.h5')"
      ],
      "execution_count": null,
      "outputs": []
    },
    {
      "cell_type": "code",
      "metadata": {
        "id": "UDuXEh0VXKII"
      },
      "source": [
        "#new data\n",
        "test = ['Hampers Lebaran/Idul Fitri | Suwe Ora Jamu | Healthy Digestive',\n",
        "        'lada hitam seasoned kemiri BAWANG puth',\n",
        "        'Ayam Kodok Special',\n",
        "        'Kotak Exclusive Imlek untuk kue kering toples nastar, lidah kucing',\n",
        "        'Camilan seafood kerupuk TRIPANG (mentah)',\n",
        "        'Risol Kering isi bihun wortel...( mentah frozen )',\n",
        "        'Milk Chocolate Drink - Coklat Cocoa Bubuk | Minuman Dari Bubuk Coklat',\n",
        "        'parsel lebaran idul adha kambing goreng',\n",
        "        'bawang putih campuran merah',\n",
        "        'tahu ikan sabu sabu bakar',\n",
        "        'kastangel lebaran',\n",
        "        'dimsum freeze',\n",
        "        'air mineral',\n",
        "        'parcel minuman oncom freeze',\n",
        "        'minuman parcel freeze oncom',\n",
        "        'freeze oncom parcel minuman']\n",
        "\n",
        "#expected\n",
        "#0, 1, 2, 3, 4, 5, 6\n",
        "#parcels, groceries, foods, cookies, snacks, frozen, drinks"
      ],
      "execution_count": null,
      "outputs": []
    },
    {
      "cell_type": "code",
      "metadata": {
        "id": "U-8ttPDHXKFe"
      },
      "source": [
        "#tokenizing newdata\n",
        "newdata = tokenizer.texts_to_sequences(test)\n",
        "newdata = pad_sequences(newdata, maxlen = maxseqlen)"
      ],
      "execution_count": null,
      "outputs": []
    },
    {
      "cell_type": "code",
      "metadata": {
        "id": "A5tCOqF9XKC8"
      },
      "source": [
        "model_predict = model.predict(newdata)\n",
        "model_label = np.argmax(model_predict, axis = 1)\n",
        "model_probability = model_predict.max(axis = 1)"
      ],
      "execution_count": null,
      "outputs": []
    },
    {
      "cell_type": "code",
      "metadata": {
        "colab": {
          "base_uri": "https://localhost:8080/"
        },
        "id": "5rhL5hmckwnJ",
        "outputId": "c2815ebb-212d-445c-b11e-a30aebdbfad9"
      },
      "source": [
        "#proccess model into prediction and probability of newdata\n",
        "model_labeled = []\n",
        "model_sentence = []\n",
        "model_probabilities = []\n",
        "for model_unlabeled, model_label, model_probability in zip(test, model_label, model_probability):\n",
        "  print('\"{}\"'.format(model_unlabeled))\n",
        "  u = model_unlabeled\n",
        "  l = id_to_kategori[model_label]\n",
        "  model_labeled.append(l)\n",
        "  model_sentence.append(u)\n",
        "  model_probabilities.append(model_probability)\n",
        "\n",
        "  print(\"  - Prediction: '{}'\".format(id_to_kategori[model_label]))\n",
        "  print(\"  - Probability: '{}'\".format(model_probability))\n",
        "  print(\"\")"
      ],
      "execution_count": null,
      "outputs": [
        {
          "output_type": "stream",
          "text": [
            "\"Hampers Lebaran/Idul Fitri | Suwe Ora Jamu | Healthy Digestive\"\n",
            "  - Prediction: 'parcels'\n",
            "  - Probability: '1.0'\n",
            "\n",
            "\"lada hitam seasoned kemiri BAWANG puth\"\n",
            "  - Prediction: 'groceries'\n",
            "  - Probability: '1.0'\n",
            "\n",
            "\"Ayam Kodok Special\"\n",
            "  - Prediction: 'foods'\n",
            "  - Probability: '0.9834527373313904'\n",
            "\n",
            "\"Kotak Exclusive Imlek untuk kue kering toples nastar, lidah kucing\"\n",
            "  - Prediction: 'cookies'\n",
            "  - Probability: '0.9972249269485474'\n",
            "\n",
            "\"Camilan seafood kerupuk TRIPANG (mentah)\"\n",
            "  - Prediction: 'snacks'\n",
            "  - Probability: '0.999992847442627'\n",
            "\n",
            "\"Risol Kering isi bihun wortel...( mentah frozen )\"\n",
            "  - Prediction: 'frozen'\n",
            "  - Probability: '0.9997090697288513'\n",
            "\n",
            "\"Milk Chocolate Drink - Coklat Cocoa Bubuk | Minuman Dari Bubuk Coklat\"\n",
            "  - Prediction: 'drinks'\n",
            "  - Probability: '0.9962575435638428'\n",
            "\n",
            "\"parsel lebaran idul adha kambing goreng\"\n",
            "  - Prediction: 'parcels'\n",
            "  - Probability: '1.0'\n",
            "\n",
            "\"bawang putih campuran merah\"\n",
            "  - Prediction: 'groceries'\n",
            "  - Probability: '0.9999854564666748'\n",
            "\n",
            "\"tahu ikan sabu sabu bakar\"\n",
            "  - Prediction: 'frozen'\n",
            "  - Probability: '0.9991247057914734'\n",
            "\n",
            "\"kastangel lebaran\"\n",
            "  - Prediction: 'parcels'\n",
            "  - Probability: '0.9999719858169556'\n",
            "\n",
            "\"dimsum freeze\"\n",
            "  - Prediction: 'frozen'\n",
            "  - Probability: '0.9997238516807556'\n",
            "\n",
            "\"air mineral\"\n",
            "  - Prediction: 'drinks'\n",
            "  - Probability: '1.0'\n",
            "\n",
            "\"parcel minuman oncom freeze\"\n",
            "  - Prediction: 'parcels'\n",
            "  - Probability: '1.0'\n",
            "\n",
            "\"minuman parcel freeze oncom\"\n",
            "  - Prediction: 'parcels'\n",
            "  - Probability: '1.0'\n",
            "\n",
            "\"freeze oncom parcel minuman\"\n",
            "  - Prediction: 'parcels'\n",
            "  - Probability: '0.9999997615814209'\n",
            "\n"
          ],
          "name": "stdout"
        }
      ]
    }
  ]
}